{
 "cells": [
  {
   "cell_type": "markdown",
   "metadata": {},
   "source": [
    "https://github.com/pysal/mgwr/pull/60"
   ]
  },
  {
   "cell_type": "code",
   "execution_count": 1,
   "metadata": {},
   "outputs": [],
   "source": [
    "import sys\n",
    "sys.path.append(\"C:/Users/msachde1/Downloads/Research/Development/mgwr\")"
   ]
  },
  {
   "cell_type": "code",
   "execution_count": 2,
   "metadata": {},
   "outputs": [],
   "source": [
    "import warnings\n",
    "warnings.filterwarnings(\"ignore\")\n",
    "import pandas as pd\n",
    "import numpy as np\n",
    "\n",
    "from mgwr.gwr import GWR\n",
    "from spglm.family import Gaussian, Binomial, Poisson\n",
    "from mgwr.gwr import MGWR\n",
    "from mgwr.sel_bw import Sel_BW\n",
    "import multiprocessing as mp\n",
    "pool = mp.Pool()\n",
    "from scipy import linalg\n",
    "import numpy.linalg as la\n",
    "from scipy import sparse as sp\n",
    "from scipy.sparse import linalg as spla\n",
    "from spreg.utils import spdot, spmultiply\n",
    "from scipy import special\n",
    "import libpysal as ps\n",
    "import seaborn as sns\n",
    "import matplotlib.pyplot as plt\n",
    "from copy import deepcopy\n",
    "import copy\n",
    "from collections import namedtuple\n",
    "import spglm"
   ]
  },
  {
   "cell_type": "markdown",
   "metadata": {},
   "source": [
    "#### Clearwater data - downloaded from link: https://sgsup.asu.edu/sparc/multiscale-gwr"
   ]
  },
  {
   "cell_type": "code",
   "execution_count": 3,
   "metadata": {
    "scrolled": true
   },
   "outputs": [],
   "source": [
    "data_p = pd.read_csv(\"C:/Users/msachde1/Downloads/logistic_mgwr_data/landslides.csv\") "
   ]
  },
  {
   "cell_type": "code",
   "execution_count": 4,
   "metadata": {},
   "outputs": [
    {
     "data": {
      "text/html": [
       "<div>\n",
       "<style scoped>\n",
       "    .dataframe tbody tr th:only-of-type {\n",
       "        vertical-align: middle;\n",
       "    }\n",
       "\n",
       "    .dataframe tbody tr th {\n",
       "        vertical-align: top;\n",
       "    }\n",
       "\n",
       "    .dataframe thead th {\n",
       "        text-align: right;\n",
       "    }\n",
       "</style>\n",
       "<table border=\"1\" class=\"dataframe\">\n",
       "  <thead>\n",
       "    <tr style=\"text-align: right;\">\n",
       "      <th></th>\n",
       "      <th>UserID</th>\n",
       "      <th>X</th>\n",
       "      <th>Y</th>\n",
       "      <th>Elev</th>\n",
       "      <th>Slope</th>\n",
       "      <th>SinAspct</th>\n",
       "      <th>CosAspct</th>\n",
       "      <th>AbsSouth</th>\n",
       "      <th>Landslid</th>\n",
       "      <th>DistStrm</th>\n",
       "    </tr>\n",
       "  </thead>\n",
       "  <tbody>\n",
       "    <tr>\n",
       "      <th>0</th>\n",
       "      <td>1</td>\n",
       "      <td>616168.5625</td>\n",
       "      <td>5201076.5</td>\n",
       "      <td>1450.475</td>\n",
       "      <td>27.44172</td>\n",
       "      <td>0.409126</td>\n",
       "      <td>-0.912478</td>\n",
       "      <td>24.1499</td>\n",
       "      <td>1</td>\n",
       "      <td>8.506</td>\n",
       "    </tr>\n",
       "    <tr>\n",
       "      <th>1</th>\n",
       "      <td>2</td>\n",
       "      <td>624923.8125</td>\n",
       "      <td>5201008.5</td>\n",
       "      <td>1567.476</td>\n",
       "      <td>21.88343</td>\n",
       "      <td>-0.919245</td>\n",
       "      <td>-0.393685</td>\n",
       "      <td>66.8160</td>\n",
       "      <td>1</td>\n",
       "      <td>15.561</td>\n",
       "    </tr>\n",
       "    <tr>\n",
       "      <th>2</th>\n",
       "      <td>3</td>\n",
       "      <td>615672.0000</td>\n",
       "      <td>5199187.5</td>\n",
       "      <td>1515.065</td>\n",
       "      <td>38.81030</td>\n",
       "      <td>-0.535024</td>\n",
       "      <td>-0.844837</td>\n",
       "      <td>32.3455</td>\n",
       "      <td>1</td>\n",
       "      <td>41.238</td>\n",
       "    </tr>\n",
       "    <tr>\n",
       "      <th>3</th>\n",
       "      <td>4</td>\n",
       "      <td>615209.3125</td>\n",
       "      <td>5199112.0</td>\n",
       "      <td>1459.827</td>\n",
       "      <td>26.71631</td>\n",
       "      <td>-0.828548</td>\n",
       "      <td>-0.559918</td>\n",
       "      <td>55.9499</td>\n",
       "      <td>1</td>\n",
       "      <td>17.539</td>\n",
       "    </tr>\n",
       "    <tr>\n",
       "      <th>4</th>\n",
       "      <td>5</td>\n",
       "      <td>616354.6875</td>\n",
       "      <td>5198945.5</td>\n",
       "      <td>1379.442</td>\n",
       "      <td>27.55271</td>\n",
       "      <td>-0.872281</td>\n",
       "      <td>-0.489005</td>\n",
       "      <td>60.7248</td>\n",
       "      <td>1</td>\n",
       "      <td>35.023</td>\n",
       "    </tr>\n",
       "  </tbody>\n",
       "</table>\n",
       "</div>"
      ],
      "text/plain": [
       "   UserID            X          Y      Elev     Slope  SinAspct  CosAspct  \\\n",
       "0       1  616168.5625  5201076.5  1450.475  27.44172  0.409126 -0.912478   \n",
       "1       2  624923.8125  5201008.5  1567.476  21.88343 -0.919245 -0.393685   \n",
       "2       3  615672.0000  5199187.5  1515.065  38.81030 -0.535024 -0.844837   \n",
       "3       4  615209.3125  5199112.0  1459.827  26.71631 -0.828548 -0.559918   \n",
       "4       5  616354.6875  5198945.5  1379.442  27.55271 -0.872281 -0.489005   \n",
       "\n",
       "   AbsSouth  Landslid  DistStrm  \n",
       "0   24.1499         1     8.506  \n",
       "1   66.8160         1    15.561  \n",
       "2   32.3455         1    41.238  \n",
       "3   55.9499         1    17.539  \n",
       "4   60.7248         1    35.023  "
      ]
     },
     "execution_count": 4,
     "metadata": {},
     "output_type": "execute_result"
    }
   ],
   "source": [
    "data_p.head()"
   ]
  },
  {
   "cell_type": "markdown",
   "metadata": {},
   "source": [
    "### GWR Binomial model with independent variable, x = slope"
   ]
  },
  {
   "cell_type": "code",
   "execution_count": 5,
   "metadata": {},
   "outputs": [],
   "source": [
    "coords = list(zip(data_p['X'],data_p['Y']))\n",
    "y = np.array(data_p['Landslid']).reshape((-1,1)) \n",
    "elev = np.array(data_p['Elev']).reshape((-1,1))\n",
    "slope = np.array(data_p['Slope']).reshape((-1,1))\n",
    "SinAspct = np.array(data_p['SinAspct']).reshape(-1,1)\n",
    "CosAspct = np.array(data_p['CosAspct']).reshape(-1,1)\n",
    "X = np.hstack([elev,slope,SinAspct,CosAspct])\n",
    "x = CosAspct\n",
    "\n",
    "X_std = (X-X.mean(axis=0))/X.std(axis=0)\n",
    "x_std = (x-x.mean(axis=0))/x.std(axis=0)\n",
    "y_std = (y-y.mean(axis=0))/y.std(axis=0)"
   ]
  },
  {
   "cell_type": "code",
   "execution_count": 6,
   "metadata": {},
   "outputs": [
    {
     "data": {
      "text/plain": [
       "108.0"
      ]
     },
     "execution_count": 6,
     "metadata": {},
     "output_type": "execute_result"
    }
   ],
   "source": [
    "bw=Sel_BW(coords,y,x_std,family=Binomial(),constant=False).search()\n",
    "gwr_mod=GWR(coords,y,x_std,bw=bw,family=Binomial(),constant=False).fit()\n",
    "bw"
   ]
  },
  {
   "cell_type": "markdown",
   "metadata": {},
   "source": [
    "##### Running the function with family = Binomial()"
   ]
  },
  {
   "cell_type": "code",
   "execution_count": 7,
   "metadata": {},
   "outputs": [
    {
     "name": "stdout",
     "output_type": "stream",
     "text": [
      "Current iteration: 1 ,SOC: 0.0752521\n",
      "Bandwidths: 108.0\n",
      "Current iteration: 2 ,SOC: 0.0213201\n",
      "Bandwidths: 184.0\n",
      "Current iteration: 3 ,SOC: 5.8e-05\n",
      "Bandwidths: 184.0\n",
      "Current iteration: 4 ,SOC: 1e-06\n",
      "Bandwidths: 184.0\n"
     ]
    },
    {
     "data": {
      "text/plain": [
       "array([184.])"
      ]
     },
     "execution_count": 7,
     "metadata": {},
     "output_type": "execute_result"
    }
   ],
   "source": [
    "selector = Sel_BW(coords,y,x_std,family=Binomial(),multi=True,constant=False)\n",
    "selector.search(verbose=True)"
   ]
  },
  {
   "cell_type": "code",
   "execution_count": 8,
   "metadata": {},
   "outputs": [
    {
     "data": {
      "application/vnd.jupyter.widget-view+json": {
       "model_id": "39f8c9c179984bccb8ddf09964983951",
       "version_major": 2,
       "version_minor": 0
      },
      "text/plain": [
       "HBox(children=(IntProgress(value=0, description='Inference', max=1), HTML(value='')))"
      ]
     },
     "metadata": {},
     "output_type": "display_data"
    },
    {
     "name": "stdout",
     "output_type": "stream",
     "text": [
      "\n"
     ]
    }
   ],
   "source": [
    "mgwr_mod = MGWR(coords, y,x_std,selector,family=Binomial(),constant=False).fit()"
   ]
  },
  {
   "cell_type": "code",
   "execution_count": 9,
   "metadata": {},
   "outputs": [
    {
     "data": {
      "text/plain": [
       "325.23949237389036"
      ]
     },
     "execution_count": 9,
     "metadata": {},
     "output_type": "execute_result"
    }
   ],
   "source": [
    "mgwr_mod.bic"
   ]
  },
  {
   "cell_type": "code",
   "execution_count": 10,
   "metadata": {},
   "outputs": [
    {
     "data": {
      "text/plain": [
       "338.19722049287054"
      ]
     },
     "execution_count": 10,
     "metadata": {},
     "output_type": "execute_result"
    }
   ],
   "source": [
    "gwr_mod.bic"
   ]
  },
  {
   "cell_type": "code",
   "execution_count": 11,
   "metadata": {},
   "outputs": [
    {
     "data": {
      "text/plain": [
       "array([[-6.86421110e-02],\n",
       "       [-9.02377310e-03],\n",
       "       [-6.25927989e-02],\n",
       "       [-3.46325349e-02],\n",
       "       [-2.46608964e-02],\n",
       "       [-7.92934492e-02],\n",
       "       [-7.42296482e-03],\n",
       "       [-1.16179902e-02],\n",
       "       [-8.55163917e-03],\n",
       "       [ 6.69586863e-03],\n",
       "       [-1.34781343e-02],\n",
       "       [-4.69002263e-02],\n",
       "       [-4.27190305e-02],\n",
       "       [-1.96234952e-03],\n",
       "       [-3.45017324e-02],\n",
       "       [ 4.78018268e-03],\n",
       "       [ 2.35625148e-02],\n",
       "       [ 4.59257586e-03],\n",
       "       [ 2.67844779e-02],\n",
       "       [ 4.75083942e-03],\n",
       "       [-5.13130035e-02],\n",
       "       [-7.92681519e-02],\n",
       "       [ 7.52785701e-02],\n",
       "       [ 7.45723922e-02],\n",
       "       [-5.19817611e-02],\n",
       "       [-6.22604390e-02],\n",
       "       [-1.73378137e-02],\n",
       "       [-4.88622106e-02],\n",
       "       [ 9.15948348e-03],\n",
       "       [ 1.84910322e-02],\n",
       "       [ 3.15425672e-03],\n",
       "       [-6.48930429e-03],\n",
       "       [-1.93762371e-03],\n",
       "       [-4.34061793e-02],\n",
       "       [-5.28568280e-02],\n",
       "       [ 1.74571605e-02],\n",
       "       [-4.73594024e-03],\n",
       "       [-2.25230562e-03],\n",
       "       [-1.10529379e-02],\n",
       "       [-2.61542043e-02],\n",
       "       [-5.47613290e-02],\n",
       "       [-8.56136675e-02],\n",
       "       [ 6.11606014e-02],\n",
       "       [-7.96316019e-02],\n",
       "       [ 1.06137092e-01],\n",
       "       [-8.45634873e-02],\n",
       "       [-5.16056559e-02],\n",
       "       [-9.39907188e-02],\n",
       "       [ 5.08910015e-02],\n",
       "       [-1.11319637e-01],\n",
       "       [-2.80789755e-02],\n",
       "       [ 8.55069680e-02],\n",
       "       [-4.68078891e-02],\n",
       "       [-3.33390431e-03],\n",
       "       [-2.16235723e-02],\n",
       "       [ 2.49215314e-02],\n",
       "       [ 5.63334013e-03],\n",
       "       [ 4.03752737e-02],\n",
       "       [-1.43170358e-01],\n",
       "       [-1.59890083e-01],\n",
       "       [-7.42351180e-02],\n",
       "       [ 6.04559033e-02],\n",
       "       [ 3.33959925e-02],\n",
       "       [-8.40832151e-03],\n",
       "       [-2.65428632e-02],\n",
       "       [-8.67898410e-02],\n",
       "       [-8.66556038e-02],\n",
       "       [-6.84698662e-02],\n",
       "       [-5.61187590e-02],\n",
       "       [-5.67881208e-02],\n",
       "       [-6.63001614e-04],\n",
       "       [-1.06074298e-03],\n",
       "       [ 3.15268253e-02],\n",
       "       [-4.13201319e-02],\n",
       "       [-6.20969024e-02],\n",
       "       [-6.25418387e-02],\n",
       "       [-6.43731665e-02],\n",
       "       [ 5.05707341e-02],\n",
       "       [-1.81040565e-02],\n",
       "       [ 3.13435449e-02],\n",
       "       [-1.35797422e-02],\n",
       "       [-6.46775147e-02],\n",
       "       [-1.53156899e-01],\n",
       "       [ 8.11104441e-03],\n",
       "       [ 6.41924414e-03],\n",
       "       [ 6.74537680e-03],\n",
       "       [-2.59694029e-02],\n",
       "       [-6.08872689e-02],\n",
       "       [-5.76580369e-02],\n",
       "       [ 2.09339187e-02],\n",
       "       [-1.84105049e-03],\n",
       "       [ 3.22956968e-03],\n",
       "       [ 7.27477155e-02],\n",
       "       [-2.81118267e-02],\n",
       "       [-3.45626639e-02],\n",
       "       [-3.58294089e-02],\n",
       "       [-6.09426122e-02],\n",
       "       [ 5.17859563e-02],\n",
       "       [-7.14232795e-02],\n",
       "       [ 5.29332087e-02],\n",
       "       [-7.58861089e-03],\n",
       "       [-5.86114846e-03],\n",
       "       [-6.87044228e-02],\n",
       "       [ 1.28916049e-02],\n",
       "       [-6.67529531e-02],\n",
       "       [-6.69324628e-03],\n",
       "       [ 9.56438588e-03],\n",
       "       [-3.75737563e-03],\n",
       "       [-2.64118699e-03],\n",
       "       [ 1.35663378e-01],\n",
       "       [ 1.97104440e-02],\n",
       "       [-1.59758799e-01],\n",
       "       [-4.44888861e-02],\n",
       "       [ 4.20888604e-03],\n",
       "       [-3.99928268e-02],\n",
       "       [-4.68677717e-02],\n",
       "       [-1.84088221e-01],\n",
       "       [-1.08771012e-01],\n",
       "       [-1.03004376e-01],\n",
       "       [-7.20510889e-02],\n",
       "       [-6.90533144e-02],\n",
       "       [-7.37314396e-02],\n",
       "       [ 7.50691754e-02],\n",
       "       [ 3.53817571e-02],\n",
       "       [ 4.30473649e-02],\n",
       "       [ 1.94594454e-02],\n",
       "       [ 6.96279182e-02],\n",
       "       [-1.47661459e-02],\n",
       "       [-2.55449197e-02],\n",
       "       [-2.75477053e-02],\n",
       "       [-3.53445515e-02],\n",
       "       [ 4.28998056e-03],\n",
       "       [-2.97887303e-03],\n",
       "       [ 3.34820966e-02],\n",
       "       [ 1.53836989e-02],\n",
       "       [ 2.98504386e-02],\n",
       "       [-5.44861948e-02],\n",
       "       [-9.85317074e-02],\n",
       "       [ 1.90976659e-01],\n",
       "       [ 2.64677520e-02],\n",
       "       [ 1.40322828e-01],\n",
       "       [ 2.50343699e-01],\n",
       "       [-9.26960534e-03],\n",
       "       [ 3.09008565e-02],\n",
       "       [ 5.59670178e-02],\n",
       "       [ 1.02006130e-01],\n",
       "       [-2.35602286e-02],\n",
       "       [ 1.14163733e-01],\n",
       "       [ 3.47931823e-02],\n",
       "       [-1.11183101e-03],\n",
       "       [ 1.39762958e-01],\n",
       "       [-8.04828275e-02],\n",
       "       [-3.39115588e-02],\n",
       "       [-1.71467752e-02],\n",
       "       [ 5.72292660e-04],\n",
       "       [-2.16044180e-04],\n",
       "       [ 1.28949115e-01],\n",
       "       [ 1.26023648e-01],\n",
       "       [ 8.84030834e-02],\n",
       "       [ 2.99680764e-02],\n",
       "       [ 5.56646040e-02],\n",
       "       [-5.12025553e-02],\n",
       "       [ 9.47313130e-03],\n",
       "       [-5.36473598e-02],\n",
       "       [-7.29087711e-02],\n",
       "       [-6.92127110e-02],\n",
       "       [-8.95235041e-03],\n",
       "       [-1.21073353e-02],\n",
       "       [ 1.04199536e-01],\n",
       "       [-3.44823874e-02],\n",
       "       [-5.67763767e-02],\n",
       "       [ 1.13578616e-01],\n",
       "       [ 4.52178521e-02],\n",
       "       [ 1.24571646e-01],\n",
       "       [ 8.28563723e-02],\n",
       "       [ 2.42844475e-03],\n",
       "       [-7.96453685e-02],\n",
       "       [ 2.40809343e-02],\n",
       "       [-1.55982333e-02],\n",
       "       [ 7.46162805e-02],\n",
       "       [ 1.01380277e-01],\n",
       "       [ 1.20509132e-01],\n",
       "       [ 1.35523796e-01],\n",
       "       [-3.22828125e-02],\n",
       "       [-1.37241610e-02],\n",
       "       [-5.97213805e-02],\n",
       "       [ 1.10999448e-01],\n",
       "       [-3.62631169e-02],\n",
       "       [ 1.84431180e-02],\n",
       "       [ 1.01931343e-01],\n",
       "       [-6.84139926e-02],\n",
       "       [-3.45131451e-02],\n",
       "       [-9.75344201e-03],\n",
       "       [ 4.80032525e-02],\n",
       "       [ 2.34601191e-02],\n",
       "       [ 3.89468591e-02],\n",
       "       [ 1.65250383e-01],\n",
       "       [-2.02724746e-02],\n",
       "       [ 1.47208967e-01],\n",
       "       [ 5.84571936e-02],\n",
       "       [ 2.42283823e-02],\n",
       "       [ 2.42638484e-02],\n",
       "       [-6.78773201e-03],\n",
       "       [-1.20966266e-01],\n",
       "       [-1.62437523e-02],\n",
       "       [ 8.47043108e-02],\n",
       "       [-9.80263831e-02],\n",
       "       [-7.21865204e-02],\n",
       "       [-6.04470168e-02],\n",
       "       [-4.94343083e-03],\n",
       "       [-7.30471221e-03],\n",
       "       [ 1.01563662e-01],\n",
       "       [-3.45435004e-02],\n",
       "       [ 7.28656005e-02],\n",
       "       [-2.87797340e-02],\n",
       "       [ 1.16621688e-01],\n",
       "       [ 3.04019792e-02],\n",
       "       [-7.93027975e-02],\n",
       "       [ 3.86078732e-03],\n",
       "       [-5.30570863e-02],\n",
       "       [-5.48487906e-02],\n",
       "       [ 1.70763200e-01],\n",
       "       [-4.14052105e-02],\n",
       "       [ 1.31774383e-02],\n",
       "       [-3.06852068e-02],\n",
       "       [-8.35451055e-02],\n",
       "       [ 2.58827225e-02],\n",
       "       [-3.86634974e-02],\n",
       "       [ 4.27430398e-02],\n",
       "       [-2.89324464e-02],\n",
       "       [ 1.76638263e-01],\n",
       "       [ 1.03211895e-01],\n",
       "       [ 6.55672059e-02],\n",
       "       [-8.81854679e-02],\n",
       "       [ 8.49001037e-02],\n",
       "       [-8.95180777e-02],\n",
       "       [ 1.21071638e-01],\n",
       "       [ 1.27907248e-02],\n",
       "       [-3.23289914e-03]])"
      ]
     },
     "execution_count": 11,
     "metadata": {},
     "output_type": "execute_result"
    }
   ],
   "source": [
    "mgwr_mod.predy-gwr_mod.predy"
   ]
  },
  {
   "cell_type": "markdown",
   "metadata": {},
   "source": [
    "#### Multiple bandwidth check"
   ]
  },
  {
   "cell_type": "code",
   "execution_count": 12,
   "metadata": {},
   "outputs": [
    {
     "data": {
      "text/plain": [
       "121.0"
      ]
     },
     "execution_count": 12,
     "metadata": {},
     "output_type": "execute_result"
    }
   ],
   "source": [
    "bw=Sel_BW(coords,y,X_std,family=Binomial(),constant=True).search()\n",
    "gwr_mod=GWR(coords,y,X_std,bw=bw,family=Binomial(),constant=True).fit()\n",
    "bw"
   ]
  },
  {
   "cell_type": "markdown",
   "metadata": {},
   "source": [
    "### Checking parameters"
   ]
  },
  {
   "cell_type": "code",
   "execution_count": 13,
   "metadata": {},
   "outputs": [
    {
     "name": "stdout",
     "output_type": "stream",
     "text": [
      "Current iteration: 1 ,SOC: 0.116124\n",
      "Bandwidths: 43.0, 62.0, 191.0, 100.0, 108.0\n",
      "Current iteration: 2 ,SOC: 0.0266811\n",
      "Bandwidths: 43.0, 106.0, 210.0, 100.0, 184.0\n",
      "Current iteration: 3 ,SOC: 0.0008147\n",
      "Bandwidths: 43.0, 106.0, 210.0, 100.0, 184.0\n",
      "Current iteration: 4 ,SOC: 5.28e-05\n",
      "Bandwidths: 43.0, 106.0, 210.0, 100.0, 184.0\n",
      "Current iteration: 5 ,SOC: 5.3e-06\n",
      "Bandwidths: 43.0, 106.0, 210.0, 100.0, 184.0\n"
     ]
    },
    {
     "data": {
      "text/plain": [
       "array([ 43., 106., 210., 100., 184.])"
      ]
     },
     "execution_count": 13,
     "metadata": {},
     "output_type": "execute_result"
    }
   ],
   "source": [
    "selector = Sel_BW(coords,y,X_std,family=Binomial(),multi=True,constant=True)\n",
    "selector.search(verbose=True)"
   ]
  },
  {
   "cell_type": "code",
   "execution_count": 14,
   "metadata": {},
   "outputs": [
    {
     "data": {
      "application/vnd.jupyter.widget-view+json": {
       "model_id": "82a7cf0857dc4a2184dbdcc383d0e6b2",
       "version_major": 2,
       "version_minor": 0
      },
      "text/plain": [
       "HBox(children=(IntProgress(value=0, description='Inference', max=1), HTML(value='')))"
      ]
     },
     "metadata": {},
     "output_type": "display_data"
    },
    {
     "name": "stdout",
     "output_type": "stream",
     "text": [
      "\n"
     ]
    }
   ],
   "source": [
    "mgwr_mod = MGWR(coords, y,X_std,selector,family=Binomial(),constant=True).fit()"
   ]
  },
  {
   "cell_type": "code",
   "execution_count": 15,
   "metadata": {},
   "outputs": [
    {
     "data": {
      "text/plain": [
       "(264.9819711678866, 251.85376815296377)"
      ]
     },
     "execution_count": 15,
     "metadata": {},
     "output_type": "execute_result"
    }
   ],
   "source": [
    "gwr_mod.aicc, mgwr_mod.aicc"
   ]
  },
  {
   "cell_type": "markdown",
   "metadata": {},
   "source": [
    "#### Global model check"
   ]
  },
  {
   "cell_type": "code",
   "execution_count": 16,
   "metadata": {},
   "outputs": [
    {
     "name": "stdout",
     "output_type": "stream",
     "text": [
      "Current iteration: 1 ,SOC: 0.6120513\n",
      "Bandwidths: 239.0, 239.0, 239.0, 239.0, 239.0\n",
      "Current iteration: 2 ,SOC: 0.0594775\n",
      "Bandwidths: 239.0, 239.0, 239.0, 239.0, 239.0\n",
      "Current iteration: 3 ,SOC: 0.0025897\n",
      "Bandwidths: 239.0, 239.0, 239.0, 239.0, 239.0\n",
      "Current iteration: 4 ,SOC: 0.0001289\n",
      "Bandwidths: 239.0, 239.0, 239.0, 239.0, 239.0\n",
      "Current iteration: 5 ,SOC: 1.17e-05\n",
      "Bandwidths: 239.0, 239.0, 239.0, 239.0, 239.0\n",
      "Current iteration: 6 ,SOC: 1.2e-06\n",
      "Bandwidths: 239.0, 239.0, 239.0, 239.0, 239.0\n"
     ]
    },
    {
     "data": {
      "text/plain": [
       "array([239., 239., 239., 239., 239.])"
      ]
     },
     "execution_count": 16,
     "metadata": {},
     "output_type": "execute_result"
    }
   ],
   "source": [
    "selector=Sel_BW(coords,y,X_std,multi=True,family=Binomial(),constant=True)\n",
    "selector.search(verbose=True,multi_bw_min=[239,239,239,239,239], multi_bw_max=[239,239,239,239,239])"
   ]
  },
  {
   "cell_type": "code",
   "execution_count": 17,
   "metadata": {},
   "outputs": [
    {
     "data": {
      "application/vnd.jupyter.widget-view+json": {
       "model_id": "ef529125b27a490ba4999ccdefdcfac7",
       "version_major": 2,
       "version_minor": 0
      },
      "text/plain": [
       "HBox(children=(IntProgress(value=0, description='Inference', max=1), HTML(value='')))"
      ]
     },
     "metadata": {},
     "output_type": "display_data"
    },
    {
     "name": "stdout",
     "output_type": "stream",
     "text": [
      "\n"
     ]
    }
   ],
   "source": [
    "mgwr_mod = MGWR(coords, y,X_std,selector,family=Binomial(),constant=True).fit()"
   ]
  },
  {
   "cell_type": "code",
   "execution_count": 18,
   "metadata": {},
   "outputs": [
    {
     "name": "stdout",
     "output_type": "stream",
     "text": [
      "===========================================================================\n",
      "Model type                                                         Binomial\n",
      "Number of observations:                                                 239\n",
      "Number of covariates:                                                     5\n",
      "\n",
      "Global Regression Results\n",
      "---------------------------------------------------------------------------\n",
      "Deviance:                                                           266.246\n",
      "Log-likelihood:                                                    -133.123\n",
      "AIC:                                                                276.246\n",
      "AICc:                                                               276.504\n",
      "BIC:                                                              -1015.246\n",
      "Percent deviance explained:                                           0.182\n",
      "Adj. percent deviance explained:                                      0.168\n",
      "\n",
      "Variable                              Est.         SE  t(Est/SE)    p-value\n",
      "------------------------------- ---------- ---------- ---------- ----------\n",
      "X0                                   0.389      0.150      2.591      0.010\n",
      "X1                                  -0.784      0.166     -4.715      0.000\n",
      "X2                                   0.654      0.168      3.881      0.000\n",
      "X3                                   0.039      0.149      0.264      0.792\n",
      "X4                                  -0.371      0.156     -2.381      0.017\n",
      "\n",
      "Geographically Weighted Regression (GWR) Results\n",
      "---------------------------------------------------------------------------\n",
      "Spatial kernel:                                           Adaptive bisquare\n",
      "Bandwidth used:                                                     121.000\n",
      "\n",
      "Diagnostic information\n",
      "---------------------------------------------------------------------------\n",
      "Effective number of parameters (trace(S)):                           23.263\n",
      "Degree of freedom (n - trace(S)):                                   215.737\n",
      "Log-likelihood:                                                    -106.599\n",
      "AIC:                                                                259.725\n",
      "AICc:                                                               264.982\n",
      "BIC:                                                                340.598\n",
      "Percent deviance explained:                                         0.345\n",
      "Adjusted percent deviance explained:                                0.274\n",
      "Adj. alpha (95%):                                                     0.011\n",
      "Adj. critical t value (95%):                                          2.571\n",
      "\n",
      "Summary Statistics For GWR Parameter Estimates\n",
      "---------------------------------------------------------------------------\n",
      "Variable                   Mean        STD        Min     Median        Max\n",
      "-------------------- ---------- ---------- ---------- ---------- ----------\n",
      "X0                        0.459      0.360     -0.360      0.436      1.232\n",
      "X1                       -0.824      0.479     -2.128     -0.729     -0.095\n",
      "X2                        0.567      0.390     -0.030      0.600      1.328\n",
      "X3                        0.103      0.270     -0.473      0.183      0.565\n",
      "X4                       -0.331      0.247     -1.118     -0.287      0.096\n",
      "===========================================================================\n",
      "\n"
     ]
    }
   ],
   "source": [
    "gwr_mod.summary()"
   ]
  },
  {
   "cell_type": "code",
   "execution_count": 19,
   "metadata": {},
   "outputs": [
    {
     "data": {
      "text/plain": [
       "array([ 0.19936242, -0.3251776 ,  0.32069312,  0.04295657, -0.20408904])"
      ]
     },
     "execution_count": 19,
     "metadata": {},
     "output_type": "execute_result"
    }
   ],
   "source": [
    "np.mean(mgwr_mod.params,axis=0)"
   ]
  },
  {
   "cell_type": "code",
   "execution_count": 20,
   "metadata": {},
   "outputs": [
    {
     "data": {
      "text/plain": [
       "(303.9521120546862, 340.5982180538755)"
      ]
     },
     "execution_count": 20,
     "metadata": {},
     "output_type": "execute_result"
    }
   ],
   "source": [
    "mgwr_mod.bic, gwr_mod.bic"
   ]
  },
  {
   "cell_type": "code",
   "execution_count": null,
   "metadata": {},
   "outputs": [],
   "source": []
  }
 ],
 "metadata": {
  "kernelspec": {
   "display_name": "Python 3",
   "language": "python",
   "name": "python3"
  },
  "language_info": {
   "codemirror_mode": {
    "name": "ipython",
    "version": 3
   },
   "file_extension": ".py",
   "mimetype": "text/x-python",
   "name": "python",
   "nbconvert_exporter": "python",
   "pygments_lexer": "ipython3",
   "version": "3.6.6"
  }
 },
 "nbformat": 4,
 "nbformat_minor": 2
}
