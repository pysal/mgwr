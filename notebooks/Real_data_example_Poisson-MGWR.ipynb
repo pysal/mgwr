{
 "cells": [
  {
   "cell_type": "markdown",
   "metadata": {},
   "source": [
    "**Notebook Outline:**  \n",
    "  \n",
    "- [Setup with libraries](#Set-up-Cells)\n",
    "- [Tokyo Mortality Dataset](#Tokyo-Mortality-Dataset)\n",
    "- [Univariate example](#Univariate-example)\n",
    "    - [Bandwidth: Random initialization check](#Bandwidth:-Random-initialization-check)\n",
    "    - [Parameter check](Parameter-check)\n",
    "- [Multivariate example](#Multivariate-example)\n",
    "    [Bandwidths: Random initialization check](#Bandwidths:-Random-initialization-check)\n",
    "- [MGWR bandwidths](#MGWR-bandwidths)\n",
    "- [AIC, AICc, BIC check](#AIC,-AICc,-BIC-check)"
   ]
  },
  {
   "cell_type": "markdown",
   "metadata": {},
   "source": [
    "Branch - gsco19\n",
    "\n",
    "PR - https://github.com/pysal/mgwr/pull/60"
   ]
  },
  {
   "cell_type": "markdown",
   "metadata": {},
   "source": [
    "### Set up Cells"
   ]
  },
  {
   "cell_type": "code",
   "execution_count": 1,
   "metadata": {},
   "outputs": [],
   "source": [
    "import sys\n",
    "#append path here to point to your folder\n",
    "sys.path.append(\"C:/Users/msachde1/Downloads/Research/Development/mgwr\")"
   ]
  },
  {
   "cell_type": "code",
   "execution_count": 2,
   "metadata": {},
   "outputs": [],
   "source": [
    "import warnings\n",
    "warnings.filterwarnings(\"ignore\")\n",
    "import pandas as pd\n",
    "import numpy as np\n",
    "\n",
    "from mgwr.gwr import GWR\n",
    "from spglm.family import Gaussian, Binomial, Poisson\n",
    "from mgwr.gwr import MGWR\n",
    "from mgwr.sel_bw import Sel_BW\n",
    "import multiprocessing as mp\n",
    "pool = mp.Pool()\n",
    "from scipy import linalg\n",
    "import numpy.linalg as la\n",
    "from scipy import sparse as sp\n",
    "from scipy.sparse import linalg as spla\n",
    "from spreg.utils import spdot, spmultiply\n",
    "from scipy import special\n",
    "import libpysal as ps\n",
    "import seaborn as sns\n",
    "import matplotlib.pyplot as plt\n",
    "from copy import deepcopy\n",
    "import copy\n",
    "from collections import namedtuple\n",
    "import spglm"
   ]
  },
  {
   "cell_type": "markdown",
   "metadata": {},
   "source": [
    "### Tokyo Mortality Dataset"
   ]
  },
  {
   "cell_type": "code",
   "execution_count": 3,
   "metadata": {},
   "outputs": [],
   "source": [
    "data_p = ps.io.open(ps.examples.get_path('Tokyomortality.csv'))\n",
    "coords = list(zip(data_p.by_col('X_CENTROID'),data_p.by_col('Y_CENTROID')))\n",
    "off = np.array(data_p.by_col('eb2564')).reshape((-1,1))\n",
    "y = np.array(data_p.by_col('db2564')).reshape((-1,1)) \n",
    "occ = np.array(data_p.by_col('OCC_TEC')).reshape((-1,1))\n",
    "own = np.array(data_p.by_col('OWNH')).reshape((-1,1))\n",
    "pop = np.array(data_p.by_col('POP65')).reshape((-1,1))\n",
    "unemp = np.array(data_p.by_col('UNEMP')).reshape((-1,1))\n",
    "#X set for multivariate example\n",
    "X = np.hstack([occ,own,pop,unemp])\n",
    "#x set for univariate example\n",
    "x = occ"
   ]
  },
  {
   "cell_type": "code",
   "execution_count": 4,
   "metadata": {},
   "outputs": [],
   "source": [
    "X_std = (X-X.mean(axis=0))/X.std(axis=0)\n",
    "x_std = (x-x.mean(axis=0))/x.std(axis=0)\n",
    "y_std = (y-y.mean(axis=0))/y.std(axis=0)\n",
    "off_std = (off-off.mean(axis=0))/off.std(axis=0)"
   ]
  },
  {
   "cell_type": "code",
   "execution_count": 5,
   "metadata": {},
   "outputs": [
    {
     "data": {
      "text/plain": [
       "<matplotlib.axes._subplots.AxesSubplot at 0x24954356b70>"
      ]
     },
     "execution_count": 5,
     "metadata": {},
     "output_type": "execute_result"
    },
    {
     "data": {
      "image/png": "[encoded data removed]",
      "text/plain": [
       "<Figure size 432x288 with 1 Axes>"
      ]
     },
     "metadata": {
      "needs_background": "light"
     },
     "output_type": "display_data"
    }
   ],
   "source": [
    "#checking distribution of y\n",
    "sns.distplot(y)"
   ]
  },
  {
   "cell_type": "markdown",
   "metadata": {},
   "source": [
    "### Univariate example"
   ]
  },
  {
   "cell_type": "markdown",
   "metadata": {},
   "source": [
    "#### First example: checking GWR and MGWR models with one independent variable and constant = False"
   ]
  },
  {
   "cell_type": "code",
   "execution_count": 6,
   "metadata": {},
   "outputs": [],
   "source": [
    "bw=Sel_BW(coords,y,x_std,family=Poisson(),offset=off,constant=False)\n",
    "bw=bw.search()\n",
    "gwr_model=GWR(coords,y,x_std,bw,family=Poisson(),offset=off,constant=False).fit()"
   ]
  },
  {
   "cell_type": "code",
   "execution_count": 7,
   "metadata": {},
   "outputs": [
    {
     "data": {
      "text/plain": [
       "43.0"
      ]
     },
     "execution_count": 7,
     "metadata": {},
     "output_type": "execute_result"
    }
   ],
   "source": [
    "bw"
   ]
  },
  {
   "cell_type": "code",
   "execution_count": 8,
   "metadata": {},
   "outputs": [],
   "source": [
    "selector=Sel_BW(coords,y,x_std,multi=True,family=Poisson(),offset=off,constant=False)"
   ]
  },
  {
   "cell_type": "code",
   "execution_count": 9,
   "metadata": {},
   "outputs": [
    {
     "name": "stdout",
     "output_type": "stream",
     "text": [
      "Current iteration: 1 ,SOC: 0.0\n",
      "Bandwidths: 43.0\n"
     ]
    },
    {
     "data": {
      "text/plain": [
       "array([43.])"
      ]
     },
     "execution_count": 9,
     "metadata": {},
     "output_type": "execute_result"
    }
   ],
   "source": [
    "selector.search(verbose=True)"
   ]
  },
  {
   "cell_type": "code",
   "execution_count": 10,
   "metadata": {},
   "outputs": [
    {
     "data": {
      "application/vnd.jupyter.widget-view+json": {
       "model_id": "9e794a65abd04853812f0d9e76d8032c",
       "version_major": 2,
       "version_minor": 0
      },
      "text/plain": [
       "HBox(children=(IntProgress(value=0, description='Inference', max=1), HTML(value='')))"
      ]
     },
     "metadata": {},
     "output_type": "display_data"
    },
    {
     "name": "stdout",
     "output_type": "stream",
     "text": [
      "\n"
     ]
    }
   ],
   "source": [
    "mgwr_model=MGWR(coords,y,x_std,selector,family=Poisson(),offset=off,constant=False).fit()"
   ]
  },
  {
   "cell_type": "markdown",
   "metadata": {},
   "source": [
    "#### Bandwidth: Random initialization check"
   ]
  },
  {
   "cell_type": "code",
   "execution_count": 11,
   "metadata": {},
   "outputs": [
    {
     "name": "stdout",
     "output_type": "stream",
     "text": [
      "Current iteration: 1 ,SOC: 0.0012671\n",
      "Bandwidths: 43.0\n",
      "Current iteration: 2 ,SOC: 0.0\n",
      "Bandwidths: 43.0\n"
     ]
    },
    {
     "data": {
      "text/plain": [
       "array([43.])"
      ]
     },
     "execution_count": 11,
     "metadata": {},
     "output_type": "execute_result"
    }
   ],
   "source": [
    "selector.search(verbose=True,init_multi=100)"
   ]
  },
  {
   "cell_type": "markdown",
   "metadata": {},
   "source": [
    "#### Parameter check"
   ]
  },
  {
   "cell_type": "code",
   "execution_count": 12,
   "metadata": {},
   "outputs": [
    {
     "data": {
      "text/plain": [
       "262"
      ]
     },
     "execution_count": 12,
     "metadata": {},
     "output_type": "execute_result"
    }
   ],
   "source": [
    "y.shape[0]"
   ]
  },
  {
   "cell_type": "code",
   "execution_count": 13,
   "metadata": {},
   "outputs": [
    {
     "data": {
      "text/plain": [
       "262"
      ]
     },
     "execution_count": 13,
     "metadata": {},
     "output_type": "execute_result"
    }
   ],
   "source": [
    "np.sum(((gwr_model.params-mgwr_model.params)==0.0)==True)"
   ]
  },
  {
   "cell_type": "code",
   "execution_count": 14,
   "metadata": {},
   "outputs": [
    {
     "data": {
      "text/plain": [
       "(619.7791467932716, 593.285603349239)"
      ]
     },
     "execution_count": 14,
     "metadata": {},
     "output_type": "execute_result"
    }
   ],
   "source": [
    "gwr_model.aic,mgwr_model.aic"
   ]
  },
  {
   "cell_type": "code",
   "execution_count": 15,
   "metadata": {},
   "outputs": [
    {
     "data": {
      "text/plain": [
       "262"
      ]
     },
     "execution_count": 15,
     "metadata": {},
     "output_type": "execute_result"
    }
   ],
   "source": [
    "np.sum((gwr_model.predy-mgwr_model.predy==0)==True)"
   ]
  },
  {
   "cell_type": "markdown",
   "metadata": {},
   "source": [
    "### Multivariate example"
   ]
  },
  {
   "cell_type": "code",
   "execution_count": 16,
   "metadata": {},
   "outputs": [],
   "source": [
    "bw=Sel_BW(coords,y,X_std,family=Poisson(),offset=off)\n",
    "bw=bw.search()\n",
    "gwr_model=GWR(coords,y,X_std,bw,family=Poisson(),offset=off).fit()"
   ]
  },
  {
   "cell_type": "code",
   "execution_count": 17,
   "metadata": {},
   "outputs": [
    {
     "data": {
      "text/plain": [
       "107.0"
      ]
     },
     "execution_count": 17,
     "metadata": {},
     "output_type": "execute_result"
    }
   ],
   "source": [
    "bw"
   ]
  },
  {
   "cell_type": "code",
   "execution_count": 18,
   "metadata": {},
   "outputs": [],
   "source": [
    "selector=Sel_BW(coords,y,X_std,multi=True,family=Poisson(),offset=off)"
   ]
  },
  {
   "cell_type": "code",
   "execution_count": 19,
   "metadata": {},
   "outputs": [
    {
     "name": "stdout",
     "output_type": "stream",
     "text": [
      "Current iteration: 1 ,SOC: 0.0002848\n",
      "Bandwidths: 64.0, 66.0, 83.0, 95.0, 44.0\n",
      "Current iteration: 2 ,SOC: 0.0001778\n",
      "Bandwidths: 171.0, 65.0, 105.0, 95.0, 44.0\n",
      "Current iteration: 3 ,SOC: 7.21e-05\n",
      "Bandwidths: 241.0, 65.0, 134.0, 106.0, 44.0\n",
      "Current iteration: 4 ,SOC: 4.75e-05\n",
      "Bandwidths: 261.0, 65.0, 212.0, 95.0, 44.0\n",
      "Current iteration: 5 ,SOC: 2.22e-05\n",
      "Bandwidths: 261.0, 65.0, 261.0, 95.0, 44.0\n",
      "Current iteration: 6 ,SOC: 1.52e-05\n",
      "Bandwidths: 260.0, 65.0, 261.0, 95.0, 44.0\n",
      "Current iteration: 7 ,SOC: 1.57e-05\n",
      "Bandwidths: 261.0, 65.0, 261.0, 95.0, 45.0\n",
      "Current iteration: 8 ,SOC: 1.4e-05\n",
      "Bandwidths: 261.0, 65.0, 261.0, 95.0, 44.0\n",
      "Current iteration: 9 ,SOC: 1.09e-05\n",
      "Bandwidths: 261.0, 65.0, 261.0, 95.0, 44.0\n",
      "Current iteration: 10 ,SOC: 9.2e-06\n",
      "Bandwidths: 261.0, 65.0, 261.0, 95.0, 44.0\n"
     ]
    },
    {
     "data": {
      "text/plain": [
       "array([261.,  65., 261.,  95.,  44.])"
      ]
     },
     "execution_count": 19,
     "metadata": {},
     "output_type": "execute_result"
    }
   ],
   "source": [
    "selector.search(verbose=True)"
   ]
  },
  {
   "cell_type": "markdown",
   "metadata": {},
   "source": [
    "#### Bandwidths: Random initialization check"
   ]
  },
  {
   "cell_type": "code",
   "execution_count": 20,
   "metadata": {},
   "outputs": [
    {
     "name": "stdout",
     "output_type": "stream",
     "text": [
      "Current iteration: 1 ,SOC: 0.0007503\n",
      "Bandwidths: 43.0, 43.0, 43.0, 83.0, 44.0\n",
      "Current iteration: 2 ,SOC: 0.0003131\n",
      "Bandwidths: 127.0, 64.0, 77.0, 84.0, 44.0\n",
      "Current iteration: 3 ,SOC: 0.0001606\n",
      "Bandwidths: 261.0, 66.0, 105.0, 83.0, 44.0\n",
      "Current iteration: 4 ,SOC: 8.07e-05\n",
      "Bandwidths: 261.0, 66.0, 105.0, 84.0, 44.0\n",
      "Current iteration: 5 ,SOC: 6.02e-05\n",
      "Bandwidths: 261.0, 66.0, 134.0, 84.0, 44.0\n",
      "Current iteration: 6 ,SOC: 4.91e-05\n",
      "Bandwidths: 261.0, 66.0, 212.0, 83.0, 44.0\n",
      "Current iteration: 7 ,SOC: 3.65e-05\n",
      "Bandwidths: 261.0, 66.0, 261.0, 83.0, 44.0\n",
      "Current iteration: 8 ,SOC: 2.91e-05\n",
      "Bandwidths: 261.0, 66.0, 261.0, 83.0, 44.0\n",
      "Current iteration: 9 ,SOC: 2.63e-05\n",
      "Bandwidths: 230.0, 66.0, 261.0, 83.0, 44.0\n",
      "Current iteration: 10 ,SOC: 2.6e-05\n",
      "Bandwidths: 261.0, 66.0, 261.0, 84.0, 44.0\n",
      "Current iteration: 11 ,SOC: 1.42e-05\n",
      "Bandwidths: 261.0, 66.0, 261.0, 84.0, 44.0\n",
      "Current iteration: 12 ,SOC: 1.09e-05\n",
      "Bandwidths: 261.0, 66.0, 261.0, 84.0, 44.0\n",
      "Current iteration: 13 ,SOC: 8.4e-06\n",
      "Bandwidths: 261.0, 66.0, 261.0, 84.0, 44.0\n"
     ]
    },
    {
     "data": {
      "text/plain": [
       "array([261.,  66., 261.,  84.,  44.])"
      ]
     },
     "execution_count": 20,
     "metadata": {},
     "output_type": "execute_result"
    }
   ],
   "source": [
    "selector.search(verbose=True, init_multi=50)"
   ]
  },
  {
   "cell_type": "code",
   "execution_count": 21,
   "metadata": {},
   "outputs": [
    {
     "data": {
      "application/vnd.jupyter.widget-view+json": {
       "model_id": "8a19051703d147b698f328ae003150e6",
       "version_major": 2,
       "version_minor": 0
      },
      "text/plain": [
       "HBox(children=(IntProgress(value=0, description='Inference', max=1), HTML(value='')))"
      ]
     },
     "metadata": {},
     "output_type": "display_data"
    },
    {
     "name": "stdout",
     "output_type": "stream",
     "text": [
      "\n"
     ]
    }
   ],
   "source": [
    "mgwr_model=MGWR(coords,y,X_std,selector,family=Poisson(),offset=off).fit()"
   ]
  },
  {
   "cell_type": "markdown",
   "metadata": {},
   "source": [
    "### AIC, AICc, BIC check"
   ]
  },
  {
   "cell_type": "code",
   "execution_count": 22,
   "metadata": {},
   "outputs": [
    {
     "data": {
      "text/plain": [
       "(300.34506038726374, 368.06775592811084)"
      ]
     },
     "execution_count": 22,
     "metadata": {},
     "output_type": "execute_result"
    }
   ],
   "source": [
    "mgwr_model.aicc,gwr_model.aicc"
   ]
  },
  {
   "cell_type": "code",
   "execution_count": 23,
   "metadata": {},
   "outputs": [
    {
     "data": {
      "text/plain": [
       "(300.1097583063385, 363.3233070483762)"
      ]
     },
     "execution_count": 23,
     "metadata": {},
     "output_type": "execute_result"
    }
   ],
   "source": [
    "mgwr_model.aic,gwr_model.aic"
   ]
  },
  {
   "cell_type": "code",
   "execution_count": 24,
   "metadata": {},
   "outputs": [
    {
     "data": {
      "text/plain": [
       "(317.9895317310377, 446.3004709644055)"
      ]
     },
     "execution_count": 24,
     "metadata": {},
     "output_type": "execute_result"
    }
   ],
   "source": [
    "mgwr_model.bic,gwr_model.bic"
   ]
  }
 ],
 "metadata": {
  "kernelspec": {
   "display_name": "Python 3",
   "language": "python",
   "name": "python3"
  },
  "language_info": {
   "codemirror_mode": {
    "name": "ipython",
    "version": 3
   },
   "file_extension": ".py",
   "mimetype": "text/x-python",
   "name": "python",
   "nbconvert_exporter": "python",
   "pygments_lexer": "ipython3",
   "version": "3.6.6"
  }
 },
 "nbformat": 4,
 "nbformat_minor": 2
}
