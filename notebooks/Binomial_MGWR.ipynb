{
 "cells": [
  {
   "cell_type": "markdown",
   "metadata": {},
   "source": [
    "# Multiscale Geographically Weighted Regression - Binomial dependent variable\n",
    "\n",
    "\n",
    "The model has been explored and tested for multiple parameters on real and simulated datasets. The research includes the following outline with separate notebooks for each part.\n",
    "\n",
    "\n",
    "**Notebook Outline:**  \n",
    "  \n",
    "**[Introduction Notebook (current)](Poisson_MGWR.ipynb)**\n",
    "- [Introduction](#Introduction)\n",
    " - [Introduction to the problem](#Introduction-to-the-project)\n",
    " - [Important Equations](#Statistical-Equations) \n",
    "- [Approaches Explored](#Approaches-Explored)\n",
    "- [References](#References)\n",
    "\n",
    "**[Initial module changes and univariate model check ](Poisson_MGWR_univariate_check.ipynb)**\n",
    "- [Setup with libraries](#Set-up-Cells)\n",
    "- [Fundamental equations for Binomial MGWR](#Fundamental-equations-for-Poisson-MGWR)\n",
    "- [Example Dataset](#Example-Dataset)\n",
    "- [Helper functions](#Helper-functions)\n",
    "- [Univariate example](#Univariate-example)\n",
    "    - [Parameter check](#Parameter-check)\n",
    "    - [Bandwidths check](#Bandwidths-check)\n",
    "\n",
    "**[Simulated Data example](Simulated_data_example_Poisson-MGWR.ipynb)**\n",
    "- [Setup with libraries](#Set-up-Cells)\n",
    "- [Create Simulated Dataset](#Create-Simulated-Dataset)\n",
    "    - [Forming independent variables](#Forming-independent-variables)\n",
    "    - [Creating y variable with Binomial distribution](#Creating-y-variable-with-Poisson-distribution)\n",
    "- [Univariate example](#Univariate-example)\n",
    "    - [Bandwidth: Random initialization check](#Bandwidth:-Random-initialization-check)\n",
    "    - [Parameters check](#Parameters-check)\n",
    "- [Multivariate example](#Multivariate-example)\n",
    "    - [Bandwidths: Random initialization check](#Bandwidths:-Random-initialization-check)\n",
    "    - [Parameters check](#Parameters-check)\n",
    "- [Global model parameter check](#Global-model-parameter-check)\n",
    " \n",
    "**[Real Data example](Real_data_example_Poisson-MGWR.ipynb)**\n",
    "\n",
    "- [Setup with libraries](#Set-up-Cells)\n",
    "- [Landslide Dataset](#Tokyo-Mortality-Dataset)\n",
    "- [Univariate example](#Univariate-example)\n",
    "    - [Bandwidth: Random initialization check](#Bandwidth:-Random-initialization-check)\n",
    "    - [Parameter check](Parameter-check)\n",
    "- [Multivariate example](#Multivariate-example)\n",
    "    [Bandwidths: Random initialization check](#Bandwidths:-Random-initialization-check)\n",
    "- [MGWR bandwidths](#MGWR-bandwidths)\n",
    "- [AIC, AICc, BIC check](#AIC,-AICc,-BIC-check)\n",
    "\n",
    "**[Monte Carlo Simulation Visualization](Poisson_MGWR_MonteCarlo_Results.ipynb)**\n",
    " \n",
    "- [Setup with libraries](#Set-up-Cell)\n",
    "- [List bandwidths from pickles](#List-bandwidths-from-pickles)\n",
    "- [Parameter functions](#Parameter-functions)\n",
    "- [GWR bandwidth](#GWR-bandwidth)\n",
    "- [MGWR bandwidths](#MGWR-bandwidths)\n",
    "- [AIC, AICc, BIC check](#AIC,-AICc,-BIC-check)\n",
    "    - [AIC, AICc, BIC Boxplots for comparison](#AIC,-AICc,-BIC-Boxplots-for-comparison)\n",
    "- [Parameter comparison from MGWR and GWR](#Parameter-comparison-from-MGWR-and-GWR)"
   ]
  },
  {
   "cell_type": "markdown",
   "metadata": {},
   "source": [
    "#### Local Scoring Algorithm\n",
    "\n",
    "1. Initialize: ${\\beta}_0$ = g($\\bar{y}$);    $f^{0}_1$=$f^{0}_2$=0\n",
    "\n",
    "2. Update and Construct an adjusted dependent variable:\n",
    "$z_i$ = ${\\eta}^{0}_i$ + ($y_i - {\\mu}^{0}_i$) (${\\delta}{\\eta}_i$ / ${\\delta}{\\mu}_i$)\n",
    "\n",
    "with ${\\eta}^{0}_i$ = ${\\beta}^0_0$ + ${\\sum} f_j(X_j)$ and ${\\mu}^0_i$ = $g^{-1}({\\eta}^0_i)$\n",
    "\n",
    "\n",
    "\n",
    "\n",
    "\n",
    "\n",
    "\n",
    "\\begin{align}\n",
    "\\beta^{(l+1)} (u_i) = (X^{t} W (u_i) A(u_i)^{(l)} X)^{-1} X^{t} W (u_i) A (u_i) ^{(l)} z (u_i){(l)} \\\\\n",
    "\\end{align}"
   ]
  },
  {
   "cell_type": "markdown",
   "metadata": {},
   "source": [
    "n_old = sum(beta_0 + beta_1 * X_1 + beta_2 * X_2)\n",
    "\n",
    "p_old = exp(n_old) / (1+exp(n_old))\n",
    "\n",
    "z = n_old + ((yi-p_old)/(p_old * (1-p_old)))\n",
    "\n",
    "w = p_old * (1 - p_old)"
   ]
  },
  {
   "cell_type": "markdown",
   "metadata": {},
   "source": [
    "log(p/1-p) = beta_0 + sum(f_j(x_j))\n",
    "\n",
    "n_old = log(optim_model.predy/1-optim_model.predy) + (y-optim_model.predy)/(optim_model.predy*(1-optim_model.predy))\n",
    "\n"
   ]
  }
 ],
 "metadata": {
  "kernelspec": {
   "display_name": "Python 3",
   "language": "python",
   "name": "python3"
  },
  "language_info": {
   "codemirror_mode": {
    "name": "ipython",
    "version": 3
   },
   "file_extension": ".py",
   "mimetype": "text/x-python",
   "name": "python",
   "nbconvert_exporter": "python",
   "pygments_lexer": "ipython3",
   "version": "3.6.6"
  }
 },
 "nbformat": 4,
 "nbformat_minor": 2
}
