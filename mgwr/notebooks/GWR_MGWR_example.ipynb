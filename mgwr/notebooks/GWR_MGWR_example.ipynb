{
 "cells": [
  {
   "cell_type": "code",
   "execution_count": 1,
   "metadata": {},
   "outputs": [],
   "source": [
    "import pysal as ps\n",
    "import numpy as np\n",
    "import scipy as sp\n",
    "from mgwr.sel_bw import Sel_BW\n",
    "from mgwr.gwr import GWR, MGWR\n",
    "import pandas as pd\n",
    "import pysal\n",
    "import libpysal as ps\n",
    "import pickle as pk\n",
    "import os"
   ]
  },
  {
   "cell_type": "code",
   "execution_count": 2,
   "metadata": {},
   "outputs": [],
   "source": [
    "data = pysal.open('/Users/toshan/Dropbox/dev/GWR4/georgia/GData_utm.csv')\n",
    "coords = list(zip(data.by_col('X'), data.by_col('Y')))\n",
    "y = np.array(data.by_col('PctBach')).reshape((-1,1))\n",
    "rural  = np.array(data.by_col('PctRural')).reshape((-1,1))\n",
    "pov = np.array(data.by_col('PctPov')).reshape((-1,1)) \n",
    "black = np.array(data.by_col('PctBlack')).reshape((-1,1))\n",
    "fb = np.array(data.by_col('PctFB')).reshape((-1,1))\n",
    "pop = np.array(data.by_col('TotPop90')).reshape((-1,1))\n",
    "\n",
    "\n",
    "X = np.hstack([fb, black, rural])\n"
   ]
  },
  {
   "cell_type": "code",
   "execution_count": 3,
   "metadata": {},
   "outputs": [
    {
     "name": "stdout",
     "output_type": "stream",
     "text": [
      "bw: 117.0\n",
      "aicc: 299.050808683\n",
      "ENP: 11.8047697167\n",
      "sigma2: 0.347743547498\n"
     ]
    }
   ],
   "source": [
    "X = (X - X.mean(axis=0)) / X.std(axis=0)\n",
    "\n",
    "y = y.reshape((-1,1))\n",
    "\n",
    "y = (y - y.mean(axis=0)) / y.std(axis=0)\n",
    "\n",
    "sel = Sel_BW(coords, y, X)\n",
    "\n",
    "bw = sel.search()\n",
    "print('bw:', bw)\n",
    "gwr = GWR(coords, y, X, bw)\n",
    "gwr_results = gwr.fit()\n",
    "print('aicc:', gwr_results.aicc)\n",
    "print('ENP:', gwr_results.ENP)\n",
    "print('sigma2:', gwr_results.sigma2)"
   ]
  },
  {
   "cell_type": "code",
   "execution_count": 4,
   "metadata": {},
   "outputs": [
    {
     "name": "stderr",
     "output_type": "stream",
     "text": [
      "  4%|▍         | 9/200 [00:02<00:48,  3.95it/s]"
     ]
    },
    {
     "name": "stdout",
     "output_type": "stream",
     "text": [
      "bw(intercept): 92.0\n",
      "bw(foreign): 101.0\n",
      "bw(african_amer): 136.0\n",
      "bw(rural): 158.0\n",
      "aicc: 297.120138123\n",
      "sigma2: 0.344772582922\n",
      "ENP(model): 11.3682508727\n",
      "adj_alpha(model): 0.0175928559494\n",
      "critical_t(model): 2.39925784086\n",
      "ENP(intercept): 3.84467108026\n",
      "adj_alpha(intercept): 0.0130050136816\n",
      "critical_t(intercept): 2.51210749107\n",
      "ENP(foreign): 3.51377080515\n",
      "adj_alpha(foreign): 0.0142297271998\n",
      "critical_t(foreign): 2.47888792394\n",
      "ENP(african_amer): 2.25805252789\n",
      "adj_alpha(african_amer): 0.0221429747016\n",
      "critical_t(african_amer): 2.3106911297\n",
      "ENP(rural): 1.75175645939\n",
      "adj_alpha(rural): 0.0285427804373\n",
      "critical_t(rural): 2.21000183656\n"
     ]
    },
    {
     "name": "stderr",
     "output_type": "stream",
     "text": [
      "\n"
     ]
    }
   ],
   "source": [
    "X = (X - X.mean(axis=0)) / X.std(axis=0)\n",
    "\n",
    "y = y.reshape((-1,1))\n",
    "\n",
    "y = (y - y.mean(axis=0)) / y.std(axis=0)\n",
    "\n",
    "selector = Sel_BW(coords, y, X, multi=True, constant=True)\n",
    "bw = selector.search(multi_bw_min=[2], multi_bw_max=[159])\n",
    "print('bw(intercept):', bw[0])\n",
    "print('bw(foreign):', bw[1])\n",
    "print('bw(african_amer):', bw[2])\n",
    "print('bw(rural):', bw[3])\n",
    "mgwr = MGWR(coords, y, X, selector, constant=True)\n",
    "mgwr_results = mgwr.fit()\n",
    "print('aicc:', mgwr_results.aicc)\n",
    "print('sigma2:', mgwr_results.sigma2)\n",
    "print('ENP(model):', mgwr_results.ENP)\n",
    "print('adj_alpha(model):', mgwr_results.adj_alpha[1])\n",
    "print('critical_t(model):', mgwr_results.critical_tval(alpha=mgwr_results.adj_alpha[1]))\n",
    "alphas = mgwr_results.adj_alpha_j[:,1]\n",
    "critical_ts = mgwr_results.critical_tval()\n",
    "print('ENP(intercept):', mgwr_results.ENP_j[0])\n",
    "print('adj_alpha(intercept):', alphas[0])\n",
    "print('critical_t(intercept):', critical_ts[0])\n",
    "print('ENP(foreign):', mgwr_results.ENP_j[1])\n",
    "print('adj_alpha(foreign):', alphas[1])\n",
    "print('critical_t(foreign):', critical_ts[1])\n",
    "print('ENP(african_amer):', mgwr_results.ENP_j[2])\n",
    "print('adj_alpha(african_amer):', alphas[2])\n",
    "print('critical_t(african_amer):', critical_ts[2])\n",
    "print('ENP(rural):', mgwr_results.ENP_j[3])\n",
    "print('adj_alpha(rural):', alphas[3])\n",
    "print('critical_t(rural):', critical_ts[3])"
   ]
  },
  {
   "cell_type": "code",
   "execution_count": 7,
   "metadata": {},
   "outputs": [],
   "source": [
    "pk.dump(mgwr_results, open('mgwr_example.p', 'wb'), protocol=2)\n",
    "#Used to produce pickled results for tests"
   ]
  },
  {
   "cell_type": "code",
   "execution_count": 6,
   "metadata": {},
   "outputs": [],
   "source": [
    "tracts = ps.open(os.path.join(os.getcwd(),'../tests/georgia/G_utm.shp'))"
   ]
  }
 ],
 "metadata": {
  "anaconda-cloud": {},
  "kernelspec": {
   "display_name": "Python [mgwr_dev3]",
   "language": "python",
   "name": "Python [mgwr_dev3]"
  },
  "language_info": {
   "codemirror_mode": {
    "name": "ipython",
    "version": 3
   },
   "file_extension": ".py",
   "mimetype": "text/x-python",
   "name": "python",
   "nbconvert_exporter": "python",
   "pygments_lexer": "ipython3",
   "version": "3.4.5"
  }
 },
 "nbformat": 4,
 "nbformat_minor": 1
}
